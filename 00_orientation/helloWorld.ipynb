{
 "cells": [
  {
   "cell_type": "markdown",
   "id": "9cb5390d",
   "metadata": {},
   "source": [
    "# レッスン０\n",
    "\n",
    "VS Codeの基本的な書き方"
   ]
  },
  {
   "cell_type": "code",
   "execution_count": 1,
   "id": "6199e0ec",
   "metadata": {},
   "outputs": [
    {
     "name": "stdout",
     "output_type": "stream",
     "text": [
      "Hello! World!\n",
      "こんにちは！ 世界！\n"
     ]
    }
   ],
   "source": [
    "print(\"Hello! World!\")\n",
    "print(\"こんにちは！ 世界！\")"
   ]
  },
  {
   "cell_type": "code",
   "execution_count": 2,
   "id": "1d9e5b76",
   "metadata": {},
   "outputs": [
    {
     "name": "stdout",
     "output_type": "stream",
     "text": [
      "開発を行ないます！\n"
     ]
    }
   ],
   "source": [
    "print(\"開発を行ないます！\")"
   ]
  }
 ],
 "metadata": {
  "kernelspec": {
   "display_name": ".venv",
   "language": "python",
   "name": "python3"
  },
  "language_info": {
   "codemirror_mode": {
    "name": "ipython",
    "version": 3
   },
   "file_extension": ".py",
   "mimetype": "text/x-python",
   "name": "python",
   "nbconvert_exporter": "python",
   "pygments_lexer": "ipython3",
   "version": "3.12.7"
  }
 },
 "nbformat": 4,
 "nbformat_minor": 5
}
